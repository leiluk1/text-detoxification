{
  "cells": [
    {
      "cell_type": "markdown",
      "metadata": {},
      "source": [
        "# Train a Pytorch transformer\n",
        "\n",
        "To implement a Pytorch transformer, I used the following tutorial: [link](https://pytorch.org/tutorials/beginner/translation_transformer.html?highlight=seq2seq). \n",
        "\n",
        "For the whole implementation, check the `src/models/pytorch_transformer` folder."
      ]
    },
    {
      "cell_type": "code",
      "execution_count": null,
      "metadata": {
        "colab": {
          "base_uri": "https://localhost:8080/"
        },
        "id": "9oa-TJiv6Unb",
        "outputId": "ec07aeff-c306-4a27-a7b8-a7e23a8a0df0"
      },
      "outputs": [],
      "source": [
        "# Intallations needed if using Colab\n",
        "# !pip install tensorflow-gpu==2.8.0\n",
        "# !pip install torchtext"
      ]
    },
    {
      "cell_type": "markdown",
      "metadata": {},
      "source": [
        "## Cloning the repository"
      ]
    },
    {
      "cell_type": "code",
      "execution_count": 4,
      "metadata": {
        "colab": {
          "base_uri": "https://localhost:8080/"
        },
        "id": "x08-6DZUhT7n",
        "outputId": "4832e62a-df57-4f0f-e5b8-042bba1d7eb6"
      },
      "outputs": [
        {
          "name": "stdout",
          "output_type": "stream",
          "text": [
            "Cloning into 'text-detoxification'...\n",
            "remote: Enumerating objects: 159, done.\u001b[K\n",
            "remote: Counting objects: 100% (136/136), done.\u001b[K\n",
            "remote: Compressing objects: 100% (99/99), done.\u001b[K\n",
            "remote: Total 159 (delta 54), reused 109 (delta 29), pack-reused 23\u001b[K\n",
            "Receiving objects: 100% (159/159), 44.15 MiB | 15.86 MiB/s, done.\n",
            "Resolving deltas: 100% (55/55), done.\n"
          ]
        }
      ],
      "source": [
        "!git clone https://github.com/leiluk1/text-detoxification.git"
      ]
    },
    {
      "cell_type": "code",
      "execution_count": 5,
      "metadata": {
        "colab": {
          "base_uri": "https://localhost:8080/"
        },
        "id": "HokZhrA6iyIv",
        "outputId": "f7a5a2f8-18db-4cdc-9762-f11cd66f315b"
      },
      "outputs": [
        {
          "name": "stdout",
          "output_type": "stream",
          "text": [
            "/content/text-detoxification\n"
          ]
        }
      ],
      "source": [
        "# If using a Colab \n",
        "%cd ./text-detoxification/"
      ]
    },
    {
      "cell_type": "markdown",
      "metadata": {},
      "source": [
        "## Making a dataset"
      ]
    },
    {
      "cell_type": "code",
      "execution_count": 6,
      "metadata": {
        "colab": {
          "base_uri": "https://localhost:8080/"
        },
        "id": "EgG6yWGPi9uC",
        "outputId": "9a0db8f7-a58d-4001-96e3-8cfcfb14143b"
      },
      "outputs": [
        {
          "name": "stdout",
          "output_type": "stream",
          "text": [
            "Done successfully! Check data/interim folder.\n"
          ]
        }
      ],
      "source": [
        "!python ./src/data/make_dataset.py "
      ]
    },
    {
      "cell_type": "markdown",
      "metadata": {},
      "source": [
        "# Training a model"
      ]
    },
    {
      "cell_type": "code",
      "execution_count": 7,
      "metadata": {
        "colab": {
          "base_uri": "https://localhost:8080/"
        },
        "id": "SeJXINMfjCyZ",
        "outputId": "19367ba6-33d2-4472-fe0c-6c5d304a094a"
      },
      "outputs": [
        {
          "name": "stdout",
          "output_type": "stream",
          "text": [
            "100% 5000/5000 [07:16<00:00, 11.45it/s]\n",
            "100% 1094/1094 [00:27<00:00, 39.59it/s]\n",
            "Epoch: 1, Train loss: 3.935, Val loss: 3.144\n",
            "100% 5000/5000 [07:23<00:00, 11.29it/s]\n",
            "100% 1094/1094 [00:27<00:00, 39.88it/s]\n",
            "Epoch: 2, Train loss: 3.012, Val loss: 2.821\n",
            "100% 5000/5000 [07:22<00:00, 11.30it/s]\n",
            "100% 1094/1094 [00:27<00:00, 39.08it/s]\n",
            "Epoch: 3, Train loss: 2.740, Val loss: 2.661\n",
            "100% 5000/5000 [07:21<00:00, 11.31it/s]\n",
            "100% 1094/1094 [00:27<00:00, 39.64it/s]\n",
            "Epoch: 4, Train loss: 2.578, Val loss: 2.581\n",
            "100% 5000/5000 [07:22<00:00, 11.31it/s]\n",
            "100% 1094/1094 [00:27<00:00, 39.62it/s]\n",
            "Epoch: 5, Train loss: 2.457, Val loss: 2.535\n",
            "100% 5000/5000 [07:23<00:00, 11.26it/s]\n",
            "100% 1094/1094 [00:27<00:00, 39.61it/s]\n",
            "Epoch: 6, Train loss: 2.358, Val loss: 2.494\n",
            "100% 5000/5000 [07:23<00:00, 11.28it/s]\n",
            "100% 1094/1094 [00:27<00:00, 39.54it/s]\n",
            "Epoch: 7, Train loss: 2.274, Val loss: 2.472\n",
            "100% 5000/5000 [07:24<00:00, 11.25it/s]\n",
            "100% 1094/1094 [00:27<00:00, 39.82it/s]\n",
            "Epoch: 8, Train loss: 2.197, Val loss: 2.472\n",
            "100% 5000/5000 [07:21<00:00, 11.31it/s]\n",
            "100% 1094/1094 [00:27<00:00, 39.71it/s]\n",
            "Epoch: 9, Train loss: 2.126, Val loss: 2.452\n",
            "100% 5000/5000 [07:22<00:00, 11.30it/s]\n",
            "100% 1094/1094 [00:27<00:00, 39.70it/s]\n",
            "Epoch: 10, Train loss: 2.061, Val loss: 2.451\n",
            "Training completed. Best model saved at models/pytorch_transformer.\n"
          ]
        }
      ],
      "source": [
        "!python ./src/models/pytorch_transformer/train.py --batch_size 32 --epochs 10"
      ]
    },
    {
      "cell_type": "markdown",
      "metadata": {},
      "source": [
        "## Making the predictions on test set \n",
        "\n",
        "The test set is 5000 text examples from the preprocessed dataset."
      ]
    },
    {
      "cell_type": "code",
      "execution_count": 9,
      "metadata": {
        "colab": {
          "base_uri": "https://localhost:8080/"
        },
        "id": "Fb3twTN9zrKr",
        "outputId": "7d8146df-8068-4604-f626-33e70ece3bdd"
      },
      "outputs": [
        {
          "name": "stdout",
          "output_type": "stream",
          "text": [
            "Generating predictions...: 100% 5000/5000 [05:38<00:00, 14.77it/s]\n",
            "Done!\n"
          ]
        }
      ],
      "source": [
        "!python ./src/models/pytorch_transformer/predict.py"
      ]
    },
    {
      "cell_type": "code",
      "execution_count": 10,
      "metadata": {
        "id": "4dRCm91_oyl1"
      },
      "outputs": [],
      "source": [
        "import pandas as pd"
      ]
    },
    {
      "cell_type": "code",
      "execution_count": 11,
      "metadata": {
        "colab": {
          "base_uri": "https://localhost:8080/",
          "height": 241
        },
        "id": "jgOnMJMqgTk0",
        "outputId": "b82d7016-2bee-4dc4-ee95-a2ba334919b0"
      },
      "outputs": [
        {
          "data": {
            "text/html": [
              "\n",
              "  <div id=\"df-eda0d639-ae90-4010-ae1c-4475d3a5d602\" class=\"colab-df-container\">\n",
              "    <div>\n",
              "<style scoped>\n",
              "    .dataframe tbody tr th:only-of-type {\n",
              "        vertical-align: middle;\n",
              "    }\n",
              "\n",
              "    .dataframe tbody tr th {\n",
              "        vertical-align: top;\n",
              "    }\n",
              "\n",
              "    .dataframe thead th {\n",
              "        text-align: right;\n",
              "    }\n",
              "</style>\n",
              "<table border=\"1\" class=\"dataframe\">\n",
              "  <thead>\n",
              "    <tr style=\"text-align: right;\">\n",
              "      <th></th>\n",
              "      <th>reference</th>\n",
              "      <th>detox_reference</th>\n",
              "      <th>tranformer_result</th>\n",
              "    </tr>\n",
              "  </thead>\n",
              "  <tbody>\n",
              "    <tr>\n",
              "      <th>0</th>\n",
              "      <td>one is a little fucked up, but they're...</td>\n",
              "      <td>One is higher-pitched, but they're...</td>\n",
              "      <td>one is a little messed up, but they're...</td>\n",
              "    </tr>\n",
              "    <tr>\n",
              "      <th>1</th>\n",
              "      <td>I dated my naked ass last year, but now that I...</td>\n",
              "      <td>Last year I went at this half-assed, but now I...</td>\n",
              "      <td>i've been banging my naked last year, but now...</td>\n",
              "    </tr>\n",
              "    <tr>\n",
              "      <th>2</th>\n",
              "      <td>So stop your fucking whining, and go into your...</td>\n",
              "      <td>so stop crying, and go to your beautiful house...</td>\n",
              "      <td>so stop whining and go to your beautiful$ 3 m...</td>\n",
              "    </tr>\n",
              "    <tr>\n",
              "      <th>3</th>\n",
              "      <td>\"useless.\"</td>\n",
              "      <td>\"And nothing.\"</td>\n",
              "      <td>\" no use.\"</td>\n",
              "    </tr>\n",
              "    <tr>\n",
              "      <th>4</th>\n",
              "      <td>you're useless as a nurse.</td>\n",
              "      <td>Not much of a nurse are you!</td>\n",
              "      <td>you're no use as a sister.</td>\n",
              "    </tr>\n",
              "  </tbody>\n",
              "</table>\n",
              "</div>\n",
              "    <div class=\"colab-df-buttons\">\n",
              "\n",
              "  <div class=\"colab-df-container\">\n",
              "    <button class=\"colab-df-convert\" onclick=\"convertToInteractive('df-eda0d639-ae90-4010-ae1c-4475d3a5d602')\"\n",
              "            title=\"Convert this dataframe to an interactive table.\"\n",
              "            style=\"display:none;\">\n",
              "\n",
              "  <svg xmlns=\"http://www.w3.org/2000/svg\" height=\"24px\" viewBox=\"0 -960 960 960\">\n",
              "    <path d=\"M120-120v-720h720v720H120Zm60-500h600v-160H180v160Zm220 220h160v-160H400v160Zm0 220h160v-160H400v160ZM180-400h160v-160H180v160Zm440 0h160v-160H620v160ZM180-180h160v-160H180v160Zm440 0h160v-160H620v160Z\"/>\n",
              "  </svg>\n",
              "    </button>\n",
              "\n",
              "  <style>\n",
              "    .colab-df-container {\n",
              "      display:flex;\n",
              "      gap: 12px;\n",
              "    }\n",
              "\n",
              "    .colab-df-convert {\n",
              "      background-color: #E8F0FE;\n",
              "      border: none;\n",
              "      border-radius: 50%;\n",
              "      cursor: pointer;\n",
              "      display: none;\n",
              "      fill: #1967D2;\n",
              "      height: 32px;\n",
              "      padding: 0 0 0 0;\n",
              "      width: 32px;\n",
              "    }\n",
              "\n",
              "    .colab-df-convert:hover {\n",
              "      background-color: #E2EBFA;\n",
              "      box-shadow: 0px 1px 2px rgba(60, 64, 67, 0.3), 0px 1px 3px 1px rgba(60, 64, 67, 0.15);\n",
              "      fill: #174EA6;\n",
              "    }\n",
              "\n",
              "    .colab-df-buttons div {\n",
              "      margin-bottom: 4px;\n",
              "    }\n",
              "\n",
              "    [theme=dark] .colab-df-convert {\n",
              "      background-color: #3B4455;\n",
              "      fill: #D2E3FC;\n",
              "    }\n",
              "\n",
              "    [theme=dark] .colab-df-convert:hover {\n",
              "      background-color: #434B5C;\n",
              "      box-shadow: 0px 1px 3px 1px rgba(0, 0, 0, 0.15);\n",
              "      filter: drop-shadow(0px 1px 2px rgba(0, 0, 0, 0.3));\n",
              "      fill: #FFFFFF;\n",
              "    }\n",
              "  </style>\n",
              "\n",
              "    <script>\n",
              "      const buttonEl =\n",
              "        document.querySelector('#df-eda0d639-ae90-4010-ae1c-4475d3a5d602 button.colab-df-convert');\n",
              "      buttonEl.style.display =\n",
              "        google.colab.kernel.accessAllowed ? 'block' : 'none';\n",
              "\n",
              "      async function convertToInteractive(key) {\n",
              "        const element = document.querySelector('#df-eda0d639-ae90-4010-ae1c-4475d3a5d602');\n",
              "        const dataTable =\n",
              "          await google.colab.kernel.invokeFunction('convertToInteractive',\n",
              "                                                    [key], {});\n",
              "        if (!dataTable) return;\n",
              "\n",
              "        const docLinkHtml = 'Like what you see? Visit the ' +\n",
              "          '<a target=\"_blank\" href=https://colab.research.google.com/notebooks/data_table.ipynb>data table notebook</a>'\n",
              "          + ' to learn more about interactive tables.';\n",
              "        element.innerHTML = '';\n",
              "        dataTable['output_type'] = 'display_data';\n",
              "        await google.colab.output.renderOutput(dataTable, element);\n",
              "        const docLink = document.createElement('div');\n",
              "        docLink.innerHTML = docLinkHtml;\n",
              "        element.appendChild(docLink);\n",
              "      }\n",
              "    </script>\n",
              "  </div>\n",
              "\n",
              "\n",
              "<div id=\"df-fa13b914-2dfe-4ea5-bcad-c43b16812f1b\">\n",
              "  <button class=\"colab-df-quickchart\" onclick=\"quickchart('df-fa13b914-2dfe-4ea5-bcad-c43b16812f1b')\"\n",
              "            title=\"Suggest charts.\"\n",
              "            style=\"display:none;\">\n",
              "\n",
              "<svg xmlns=\"http://www.w3.org/2000/svg\" height=\"24px\"viewBox=\"0 0 24 24\"\n",
              "     width=\"24px\">\n",
              "    <g>\n",
              "        <path d=\"M19 3H5c-1.1 0-2 .9-2 2v14c0 1.1.9 2 2 2h14c1.1 0 2-.9 2-2V5c0-1.1-.9-2-2-2zM9 17H7v-7h2v7zm4 0h-2V7h2v10zm4 0h-2v-4h2v4z\"/>\n",
              "    </g>\n",
              "</svg>\n",
              "  </button>\n",
              "\n",
              "<style>\n",
              "  .colab-df-quickchart {\n",
              "      --bg-color: #E8F0FE;\n",
              "      --fill-color: #1967D2;\n",
              "      --hover-bg-color: #E2EBFA;\n",
              "      --hover-fill-color: #174EA6;\n",
              "      --disabled-fill-color: #AAA;\n",
              "      --disabled-bg-color: #DDD;\n",
              "  }\n",
              "\n",
              "  [theme=dark] .colab-df-quickchart {\n",
              "      --bg-color: #3B4455;\n",
              "      --fill-color: #D2E3FC;\n",
              "      --hover-bg-color: #434B5C;\n",
              "      --hover-fill-color: #FFFFFF;\n",
              "      --disabled-bg-color: #3B4455;\n",
              "      --disabled-fill-color: #666;\n",
              "  }\n",
              "\n",
              "  .colab-df-quickchart {\n",
              "    background-color: var(--bg-color);\n",
              "    border: none;\n",
              "    border-radius: 50%;\n",
              "    cursor: pointer;\n",
              "    display: none;\n",
              "    fill: var(--fill-color);\n",
              "    height: 32px;\n",
              "    padding: 0;\n",
              "    width: 32px;\n",
              "  }\n",
              "\n",
              "  .colab-df-quickchart:hover {\n",
              "    background-color: var(--hover-bg-color);\n",
              "    box-shadow: 0 1px 2px rgba(60, 64, 67, 0.3), 0 1px 3px 1px rgba(60, 64, 67, 0.15);\n",
              "    fill: var(--button-hover-fill-color);\n",
              "  }\n",
              "\n",
              "  .colab-df-quickchart-complete:disabled,\n",
              "  .colab-df-quickchart-complete:disabled:hover {\n",
              "    background-color: var(--disabled-bg-color);\n",
              "    fill: var(--disabled-fill-color);\n",
              "    box-shadow: none;\n",
              "  }\n",
              "\n",
              "  .colab-df-spinner {\n",
              "    border: 2px solid var(--fill-color);\n",
              "    border-color: transparent;\n",
              "    border-bottom-color: var(--fill-color);\n",
              "    animation:\n",
              "      spin 1s steps(1) infinite;\n",
              "  }\n",
              "\n",
              "  @keyframes spin {\n",
              "    0% {\n",
              "      border-color: transparent;\n",
              "      border-bottom-color: var(--fill-color);\n",
              "      border-left-color: var(--fill-color);\n",
              "    }\n",
              "    20% {\n",
              "      border-color: transparent;\n",
              "      border-left-color: var(--fill-color);\n",
              "      border-top-color: var(--fill-color);\n",
              "    }\n",
              "    30% {\n",
              "      border-color: transparent;\n",
              "      border-left-color: var(--fill-color);\n",
              "      border-top-color: var(--fill-color);\n",
              "      border-right-color: var(--fill-color);\n",
              "    }\n",
              "    40% {\n",
              "      border-color: transparent;\n",
              "      border-right-color: var(--fill-color);\n",
              "      border-top-color: var(--fill-color);\n",
              "    }\n",
              "    60% {\n",
              "      border-color: transparent;\n",
              "      border-right-color: var(--fill-color);\n",
              "    }\n",
              "    80% {\n",
              "      border-color: transparent;\n",
              "      border-right-color: var(--fill-color);\n",
              "      border-bottom-color: var(--fill-color);\n",
              "    }\n",
              "    90% {\n",
              "      border-color: transparent;\n",
              "      border-bottom-color: var(--fill-color);\n",
              "    }\n",
              "  }\n",
              "</style>\n",
              "\n",
              "  <script>\n",
              "    async function quickchart(key) {\n",
              "      const quickchartButtonEl =\n",
              "        document.querySelector('#' + key + ' button');\n",
              "      quickchartButtonEl.disabled = true;  // To prevent multiple clicks.\n",
              "      quickchartButtonEl.classList.add('colab-df-spinner');\n",
              "      try {\n",
              "        const charts = await google.colab.kernel.invokeFunction(\n",
              "            'suggestCharts', [key], {});\n",
              "      } catch (error) {\n",
              "        console.error('Error during call to suggestCharts:', error);\n",
              "      }\n",
              "      quickchartButtonEl.classList.remove('colab-df-spinner');\n",
              "      quickchartButtonEl.classList.add('colab-df-quickchart-complete');\n",
              "    }\n",
              "    (() => {\n",
              "      let quickchartButtonEl =\n",
              "        document.querySelector('#df-fa13b914-2dfe-4ea5-bcad-c43b16812f1b button');\n",
              "      quickchartButtonEl.style.display =\n",
              "        google.colab.kernel.accessAllowed ? 'block' : 'none';\n",
              "    })();\n",
              "  </script>\n",
              "</div>\n",
              "    </div>\n",
              "  </div>\n"
            ],
            "text/plain": [
              "                                           reference  \\\n",
              "0          one is a little fucked up, but they're...   \n",
              "1  I dated my naked ass last year, but now that I...   \n",
              "2  So stop your fucking whining, and go into your...   \n",
              "3                                         \"useless.\"   \n",
              "4                         you're useless as a nurse.   \n",
              "\n",
              "                                     detox_reference  \\\n",
              "0              One is higher-pitched, but they're...   \n",
              "1  Last year I went at this half-assed, but now I...   \n",
              "2  so stop crying, and go to your beautiful house...   \n",
              "3                                     \"And nothing.\"   \n",
              "4                       Not much of a nurse are you!   \n",
              "\n",
              "                                   tranformer_result  \n",
              "0         one is a little messed up, but they're...   \n",
              "1   i've been banging my naked last year, but now...  \n",
              "2   so stop whining and go to your beautiful$ 3 m...  \n",
              "3                                        \" no use.\"   \n",
              "4                        you're no use as a sister.   "
            ]
          },
          "execution_count": 11,
          "metadata": {},
          "output_type": "execute_result"
        }
      ],
      "source": [
        "res = pd.read_csv('./data/interim/transformer_results.csv')\n",
        "res.head()"
      ]
    },
    {
      "cell_type": "markdown",
      "metadata": {},
      "source": [
        "## Inference: Some examples"
      ]
    },
    {
      "cell_type": "code",
      "execution_count": 17,
      "metadata": {
        "colab": {
          "base_uri": "https://localhost:8080/"
        },
        "id": "QQBA3uSAjNwG",
        "outputId": "f7a4b894-e31f-4273-fe8f-54d24c53e803"
      },
      "outputs": [
        {
          "name": "stdout",
          "output_type": "stream",
          "text": [
            "Detoxified text:  what a joke. \n"
          ]
        }
      ],
      "source": [
        "!python ./src/models/pytorch_transformer/predict.py --inference \"What a stupid joke.\""
      ]
    },
    {
      "cell_type": "code",
      "execution_count": 19,
      "metadata": {
        "colab": {
          "base_uri": "https://localhost:8080/"
        },
        "id": "SJKlpj-DQOrW",
        "outputId": "e8a0acdd-22d4-4652-d929-5c2b628ac407"
      },
      "outputs": [
        {
          "name": "stdout",
          "output_type": "stream",
          "text": [
            "Detoxified text:  you got ta be kidding me. \n"
          ]
        }
      ],
      "source": [
        "!python ./src/models/pytorch_transformer/predict.py --inference \"Fucking damn joke!\""
      ]
    },
    {
      "cell_type": "markdown",
      "metadata": {},
      "source": [
        "Pytorch transfromer results:\n",
        "\n",
        "| Source sentence       | Detoxified sentence        |\n",
        "|-----------------------|----------------------------|\n",
        "| \"What a stupid joke.\" | \"what a joke.\"             |\n",
        "| \"Fucking damn joke!\"  | \"you got ta be kidding me.\"|\n",
        "\n",
        "\n",
        "As was obtained, the Pytorch transformer provides quite good results in a non-toxic manner, but some information from the original example sentences is missing. As shown in the table, the detoxified sentences are less expressive than the original ones. Therefore, further improvements are needed to make the detoxified sentences more informative and natural-sounding."
      ]
    }
  ],
  "metadata": {
    "accelerator": "GPU",
    "colab": {
      "gpuType": "T4",
      "provenance": []
    },
    "kernelspec": {
      "display_name": "Python 3",
      "name": "python3"
    },
    "language_info": {
      "name": "python"
    }
  },
  "nbformat": 4,
  "nbformat_minor": 0
}
